{
 "cells": [
  {
   "cell_type": "markdown",
   "metadata": {},
   "source": [
    "# Programmieraufgabe 1: Matrix-Matrix-Multiplikation\n",
    "\n",
    "## Einleitung\n",
    "\n",
    "Die Matrix-Matrix-Multiplikation $C=AB$ der Matrizen $A\\in \\mathbb{R}^{m\\times n}$,\n",
    "$B\\in \\mathbb{R}^{n\\times p}$ lässt sich auf unterschiedliche Art und Weise interpretieren:\n",
    "\n",
    "- eine Sequenz von Matrix-(Spalten)Vektor-Multiplikationen: $c^{j} = A b^{j}$,\n",
    "- eine Sequenz von (Zeilen)Vektor-Matrix-Multiplikationen: $c_{i}^T = a_{i}^T B$,\n",
    "- eine Sequenz von inneren Produkten: $c_{i}^{j} = a_{i}^T b^{j}$,\n",
    "- [eine Sequenz von äußeren Produkten: $C =  \\sum_{0\\le k < n} a^{k} b_{k}^T$],\n",
    "- komponentenweise Berechnung: $c_{i}^{j} =  \\sum_{0\\le k < n} a_{i}^{k} b_{k}^{j}$.\n",
    "\n",
    "Hier geben die Indizes die Zeilen- bzw. die Spaltennummer an. Wir nutzen $i$ für Zeilen und $j$ für Spalten.\n",
    "\n",
    "In Python werden Matrixdatenstrukturen von `numpy` zur Verfügung gestellt und man\n",
    "kann Matrix-Matrix-Multiplikation mit `C=A@B` und Matrix-Vektor-Multiplikation\n",
    "mit `c=A@b` ausführen. \n",
    "\n",
    "Auf den Eintrag $(i,j)$ von $A$ kann man mit `A[i,j]` zugreifen.\n",
    "Auf die Zeile $i$ von $A$ kann man mit `A[i,:]` und\n",
    "auf die Spalte $j$ von $A$ kann man mit `A[:,j]` zugreifen.\n",
    "\n",
    "Implementieren Sie Matrix-Matrix-Multiplikationvarianten in Python, indem Sie die richtigen\n",
    "Funktionen aus `numpy` nutzen. Untersuchen Sie für verschiedene Problemgrößen\n",
    "die Performance der Implementierungen (Zeitmessung mit dem Paket `time` und Visualisierung mit `matplotlib.pyplot`). Was fällt ihnen auf? Was könnte der \n",
    "Grund sein?\n",
    "Wie ist die Performance\n",
    "verglichen mit der Implementierung Matrix-Matrix-Multiplikation von `numpy`?\n",
    "\n",
    "Zur Abgabe beachten Sie bitte die Hinweise in `HinweisePython.pdf` und nutzen Sie folgendes Jupyter notebook.\n",
    "\n",
    "## Vorbereitung\n",
    "\n",
    "Wir nutzen das `numpy` Paket. Bitte importieren Sie es als `np`:"
   ]
  },
  {
   "cell_type": "code",
   "execution_count": 2,
   "metadata": {},
   "outputs": [],
   "source": [
    "import numpy as np"
   ]
  },
  {
   "cell_type": "markdown",
   "metadata": {},
   "source": [
    "Erstellen Sie eine zufällige Matriz der Größe `4x5` mit den Namen `A_test` und eine zufällige Matriz der Größe `5x3` mit den Namen `B_test`, führen Sie eine Matrix-Matrix-Multiplikation aus und speichern Sie das Ergebnis in `C_test`."
   ]
  },
  {
   "cell_type": "code",
   "execution_count": 3,
   "metadata": {},
   "outputs": [
    {
     "name": "stdout",
     "output_type": "stream",
     "text": [
      "[[ 1  2  3  4  5]\n",
      " [ 6  7  8  9 10]\n",
      " [11 12 13 14 15]\n",
      " [16 17 18 19 20]]\n",
      "[[ 1  2  3]\n",
      " [ 4  5  6]\n",
      " [ 7  8  9]\n",
      " [10 11 12]\n",
      " [13 14 15]]\n"
     ]
    }
   ],
   "source": [
    "A_test = np.array([[1, 2, 3, 4, 5],\n",
    "                   [6, 7, 8, 9, 10],\n",
    "                   [11, 12, 13, 14, 15],\n",
    "                   [16, 17, 18, 19, 20]])\n",
    "print(A_test)\n",
    "B_test =  np.array([[1, 2, 3],\n",
    "                   [4, 5, 6],\n",
    "                   [7, 8, 9],\n",
    "                   [10, 11, 12],\n",
    "                   [13, 14, 15]])\n",
    "print(B_test)\n",
    "C_test = A_test @ B_test"
   ]
  },
  {
   "cell_type": "markdown",
   "metadata": {},
   "source": [
    "Geben Sie den Inhalt von `C_test` aus."
   ]
  },
  {
   "cell_type": "code",
   "execution_count": 4,
   "metadata": {},
   "outputs": [
    {
     "name": "stdout",
     "output_type": "stream",
     "text": [
      "[[135 150 165]\n",
      " [310 350 390]\n",
      " [485 550 615]\n",
      " [660 750 840]]\n"
     ]
    }
   ],
   "source": [
    "print(C_test)"
   ]
  },
  {
   "cell_type": "markdown",
   "metadata": {},
   "source": [
    "## Matrix-Matrix-Multiplikation\n",
    "\n",
    "### Version 1: Sequenz von Matrix-(Spalten)Vektor-Multiplikationen\n",
    "\n",
    "Implementieren Sie eine Matrix-Matrix-Multiplikation durch eine Sequenz von Matrix-(Spalten)Vektor-Multiplikationen."
   ]
  },
  {
   "cell_type": "code",
   "execution_count": 5,
   "metadata": {},
   "outputs": [],
   "source": [
    "def version1(A, B):\n",
    "    C = np.zeros((A.shape[0], B.shape[1]))\n",
    "    for j in range(B.shape[1]):\n",
    "        C[:, j] = (A @ B[:, j])\n",
    "    return C"
   ]
  },
  {
   "cell_type": "markdown",
   "metadata": {},
   "source": [
    "Die folgende Funktion nutzen wir zum Prüfen des Outputs der zu erstellenden Funktionen."
   ]
  },
  {
   "cell_type": "code",
   "execution_count": 6,
   "metadata": {},
   "outputs": [],
   "source": [
    "def compare_matrices(M1, M2):\n",
    "\n",
    "    diff_matr = np.absolute(M1-M2)\n",
    "    max_error = np.max(diff_matr)\n",
    "    success   =  max_error < 1e-8\n",
    "\n",
    "    if success:\n",
    "        print(\"Matrix comparison successful!\")\n",
    "    else:\n",
    "        print(\"Matrix comparison failed!\")"
   ]
  },
  {
   "cell_type": "markdown",
   "metadata": {},
   "source": [
    "Prüfen wir die Korrektheit der Funktion `version1`."
   ]
  },
  {
   "cell_type": "code",
   "execution_count": 7,
   "metadata": {},
   "outputs": [
    {
     "name": "stdout",
     "output_type": "stream",
     "text": [
      "Matrix comparison successful!\n"
     ]
    }
   ],
   "source": [
    "compare_matrices(C_test, version1(A_test,B_test))"
   ]
  },
  {
   "cell_type": "markdown",
   "metadata": {},
   "source": [
    "### Version 2: Sequenz von (Zeilen)Vektor-Matrix-Multiplikationen\n",
    "\n",
    "Implementieren Sie eine Matrix-Matrix-Multiplikation durch eine Sequenz von (Zeilen)Vektor-Matrix-Multiplikationen."
   ]
  },
  {
   "cell_type": "code",
   "execution_count": 8,
   "metadata": {},
   "outputs": [],
   "source": [
    "def version2(A, B):\n",
    "    C = np.zeros((A.shape[0], B.shape[1]))\n",
    "    for i in range(A.shape[0]):\n",
    "        C[i ,:] = A[i ,:] @ B\n",
    "    return C"
   ]
  },
  {
   "cell_type": "markdown",
   "metadata": {},
   "source": [
    "Prüfen wir die Korrektheit der Funktion `version2`."
   ]
  },
  {
   "cell_type": "code",
   "execution_count": 9,
   "metadata": {},
   "outputs": [
    {
     "name": "stdout",
     "output_type": "stream",
     "text": [
      "Matrix comparison successful!\n"
     ]
    }
   ],
   "source": [
    "compare_matrices(C_test, version2(A_test,B_test))"
   ]
  },
  {
   "cell_type": "markdown",
   "metadata": {},
   "source": [
    "### Version 3: Sequenz von inneren Produkten\n",
    "\n",
    "Implementieren Sie eine Matrix-Matrix-Multiplikation durch eine Sequenz von inneren Produkten."
   ]
  },
  {
   "cell_type": "code",
   "execution_count": 10,
   "metadata": {},
   "outputs": [],
   "source": [
    "def version3(A, B):  \n",
    "    C = np.zeros((A.shape[0], B.shape[1]))\n",
    "    for i in range(A.shape[0]):\n",
    "        for j in range(B.shape[1]):\n",
    "            C[i, j] = np.dot(A[i ,:], B[:, j])\n",
    "        \n",
    "    return C"
   ]
  },
  {
   "cell_type": "markdown",
   "metadata": {},
   "source": [
    "Prüfen wir die Korrektheit der Funktion `version3`."
   ]
  },
  {
   "cell_type": "code",
   "execution_count": 11,
   "metadata": {},
   "outputs": [
    {
     "name": "stdout",
     "output_type": "stream",
     "text": [
      "Matrix comparison successful!\n"
     ]
    }
   ],
   "source": [
    "compare_matrices(C_test, version3(A_test,B_test))"
   ]
  },
  {
   "cell_type": "markdown",
   "metadata": {},
   "source": [
    "### Version 4: komponentenweise Berechnung\n",
    "\n",
    "Implementieren Sie eine Matrix-Matrix-Multiplikation durch eine komponentenweise Berechnung."
   ]
  },
  {
   "cell_type": "code",
   "execution_count": 12,
   "metadata": {},
   "outputs": [],
   "source": [
    "def version4(A, B):  \n",
    "    C = np.zeros((A.shape[0], B.shape[1]))\n",
    "    for i in range(A.shape[0]):\n",
    "        for j in range(B.shape[1]):\n",
    "            for k in range(A.shape[1]):\n",
    "                C[i, j] += A[i, k] * B[k, j]\n",
    "    return C"
   ]
  },
  {
   "cell_type": "markdown",
   "metadata": {},
   "source": [
    "Prüfen wir die Korrektheit der Funktion `version4`."
   ]
  },
  {
   "cell_type": "code",
   "execution_count": 13,
   "metadata": {},
   "outputs": [
    {
     "name": "stdout",
     "output_type": "stream",
     "text": [
      "Matrix comparison successful!\n"
     ]
    }
   ],
   "source": [
    "compare_matrices(C_test, version4(A_test,B_test))"
   ]
  },
  {
   "cell_type": "markdown",
   "metadata": {},
   "source": [
    "## Performancevergleich"
   ]
  },
  {
   "cell_type": "markdown",
   "metadata": {},
   "source": [
    "Im Folgenden betrachten wir die Performance der verschiedenen Matrix-Matrix-Multiplikationsimplementierungen.\n",
    "\n",
    "Als Vergleich nutzen wir die Implementierung von `numpy`:"
   ]
  },
  {
   "cell_type": "code",
   "execution_count": 14,
   "metadata": {},
   "outputs": [],
   "source": [
    "def version5(A, B):\n",
    "    C = A@B\n",
    "    return C"
   ]
  },
  {
   "cell_type": "markdown",
   "metadata": {},
   "source": [
    "Das folgende Skript führt die Implementierungen für verschiedene Problemgrößen aus, misst die Ausführungszeiten und plottet die Zeiten."
   ]
  },
  {
   "cell_type": "code",
   "execution_count": null,
   "metadata": {},
   "outputs": [],
   "source": [
    "import time\n",
    "import matplotlib.pyplot as plt\n",
    "\n",
    "max_matrix_size = 100\n",
    "\n",
    "ss = [10, 20, 50, 100, 200, 500, 1000]\n",
    "ss = [i for i in ss if i <= max_matrix_size]\n",
    "\n",
    "time1 = []\n",
    "time2 = []\n",
    "time3 = []\n",
    "time4 = []\n",
    "time5 = [] \n",
    "\n",
    "def my_timer(mult):\n",
    "    start = time.time()\n",
    "    for i in range(0,10):\n",
    "        mult(A, B)\n",
    "    end = time.time()\n",
    "    return end - start\n",
    "\n",
    "for s in ss:\n",
    "    m = s\n",
    "    n = s\n",
    "    p = s\n",
    "\n",
    "    A = np.zeros((m, n))\n",
    "    B = np.zeros((p, n))\n",
    "    C = np.zeros((m, p))\n",
    "\n",
    "    time1 = time1 + [my_timer(version1)]\n",
    "    time2 = time2 + [my_timer(version2)]\n",
    "    time3 = time3 + [my_timer(version3)]\n",
    "    time4 = time4 + [my_timer(version4)]\n",
    "    time5 = time5 + [my_timer(version5)] \n",
    "\n",
    "plt.plot(ss, time1, label='v1')\n",
    "plt.plot(ss, time2, label='v2')\n",
    "plt.plot(ss, time3, label='v3')\n",
    "plt.plot(ss, time4, label='v4')\n",
    "plt.plot(ss, time5, label='np') \n",
    "\n",
    "plt.xscale('log')\n",
    "plt.yscale('log')\n",
    "plt.xlabel('m=n=p')\n",
    "plt.ylabel('time')\n",
    "plt.legend()\n",
    "plt.grid()\n",
    "plt.show()"
   ]
  },
  {
   "cell_type": "markdown",
   "metadata": {},
   "source": [
    "Sie können die maximal Matrixgröße im Code durch die Modifikation des Parameters `max_matrix_size` erhöhen. Bitte vergessen Sie nicht die langsamste Implementierung zu deaktivieren."
   ]
  },
  {
   "cell_type": "code",
   "execution_count": null,
   "metadata": {},
   "outputs": [],
   "source": []
  },
  {
   "cell_type": "code",
   "execution_count": null,
   "metadata": {},
   "outputs": [],
   "source": []
  }
 ],
 "metadata": {
  "kernelspec": {
   "display_name": "Python 3 (ipykernel)",
   "language": "python",
   "name": "python3"
  },
  "language_info": {
   "codemirror_mode": {
    "name": "ipython",
    "version": 3
   },
   "file_extension": ".py",
   "mimetype": "text/x-python",
   "name": "python",
   "nbconvert_exporter": "python",
   "pygments_lexer": "ipython3",
   "version": "3.10.12"
  },
  "vscode": {
   "interpreter": {
    "hash": "916dbcbb3f70747c44a77c7bcd40155683ae19c65e1c03b4aa3499c5328201f1"
   }
  }
 },
 "nbformat": 4,
 "nbformat_minor": 4
}
